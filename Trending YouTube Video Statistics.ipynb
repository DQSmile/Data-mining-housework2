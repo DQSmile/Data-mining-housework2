{
 "cells": [
  {
   "cell_type": "markdown",
   "metadata": {},
   "source": [
    "## Trending YouTube Video Statistics\n",
    "该数据集包括数月（并且还在不断增加）关于 YouTube 每日热门视频的数据。 包括美国、英国、德国、加拿大、法国地区、俄罗斯、墨西哥、韩国、日本和印度地区（分别为美国、英国、德国、加拿大、法国、俄罗斯、墨西哥、韩国、日本和印度）的数据，每天最多列出 200 个热门视频。\n",
    "\n",
    "每个区域的数据都在一个单独的文件中。 数据包括视频标题、频道标题、发布时间、标签、观看次数、喜欢和不喜欢、描述和评论计数。\n",
    "\n",
    "数据还包括一个 category_id 字段，该字段因地区而异。 要检索特定视频的类别，请在关联的 JSON 中找到它。 数据集中的五个区域中的每一个都包含一个这样的文件。\n",
    "\n",
    "对其他可用的课程数据集进行了分析，该数据集所涉及到的属性之间的关联性比较强，有值得进行频繁模式和关联规则挖掘的潜力。\n",
    "\n",
    "### 属性分析与数据预处理\n",
    "- 导入数据并观察属性\n",
    "观察各个国家的数据，由于俄罗斯、墨西哥、韩国、日本和印度的数据不是utf-8形式，这里选取数据样本最大的美国区域数据进行读入和分析\n",
    "由于orange库中带有关联规则算法相关的函数可以调用，因此先引入orange库"
   ]
  },
  {
   "cell_type": "code",
   "execution_count": null,
   "metadata": {},
   "outputs": [
    {
     "name": "stdout",
     "output_type": "stream",
     "text": [
      "Collecting package metadata (current_repodata.json): done\n",
      "Solving environment: failed with initial frozen solve. Retrying with flexible solve.\n",
      "Solving environment: failed with repodata from current_repodata.json, will retry with next repodata source.\n",
      "Collecting package metadata (repodata.json): done\n",
      "Solving environment: \\ "
     ]
    }
   ],
   "source": [
    "conda install orange3"
   ]
  },
  {
   "cell_type": "code",
   "execution_count": 21,
   "metadata": {},
   "outputs": [
    {
     "data": {
      "text/html": [
       "<div>\n",
       "<style scoped>\n",
       "    .dataframe tbody tr th:only-of-type {\n",
       "        vertical-align: middle;\n",
       "    }\n",
       "\n",
       "    .dataframe tbody tr th {\n",
       "        vertical-align: top;\n",
       "    }\n",
       "\n",
       "    .dataframe thead th {\n",
       "        text-align: right;\n",
       "    }\n",
       "</style>\n",
       "<table border=\"1\" class=\"dataframe\">\n",
       "  <thead>\n",
       "    <tr style=\"text-align: right;\">\n",
       "      <th></th>\n",
       "      <th>video_id</th>\n",
       "      <th>trending_date</th>\n",
       "      <th>title</th>\n",
       "      <th>channel_title</th>\n",
       "      <th>category_id</th>\n",
       "      <th>publish_time</th>\n",
       "      <th>tags</th>\n",
       "      <th>views</th>\n",
       "      <th>likes</th>\n",
       "      <th>dislikes</th>\n",
       "      <th>comment_count</th>\n",
       "      <th>thumbnail_link</th>\n",
       "      <th>comments_disabled</th>\n",
       "      <th>ratings_disabled</th>\n",
       "      <th>video_error_or_removed</th>\n",
       "      <th>description</th>\n",
       "    </tr>\n",
       "  </thead>\n",
       "  <tbody>\n",
       "    <tr>\n",
       "      <th>0</th>\n",
       "      <td>2kyS6SvSYSE</td>\n",
       "      <td>17.14.11</td>\n",
       "      <td>WE WANT TO TALK ABOUT OUR MARRIAGE</td>\n",
       "      <td>CaseyNeistat</td>\n",
       "      <td>22</td>\n",
       "      <td>2017-11-13T17:13:01.000Z</td>\n",
       "      <td>SHANtell martin</td>\n",
       "      <td>748374</td>\n",
       "      <td>57527</td>\n",
       "      <td>2966</td>\n",
       "      <td>15954</td>\n",
       "      <td>https://i.ytimg.com/vi/2kyS6SvSYSE/default.jpg</td>\n",
       "      <td>False</td>\n",
       "      <td>False</td>\n",
       "      <td>False</td>\n",
       "      <td>SHANTELL'S CHANNEL - https://www.youtube.com/s...</td>\n",
       "    </tr>\n",
       "    <tr>\n",
       "      <th>1</th>\n",
       "      <td>1ZAPwfrtAFY</td>\n",
       "      <td>17.14.11</td>\n",
       "      <td>The Trump Presidency: Last Week Tonight with J...</td>\n",
       "      <td>LastWeekTonight</td>\n",
       "      <td>24</td>\n",
       "      <td>2017-11-13T07:30:00.000Z</td>\n",
       "      <td>last week tonight trump presidency|\"last week ...</td>\n",
       "      <td>2418783</td>\n",
       "      <td>97185</td>\n",
       "      <td>6146</td>\n",
       "      <td>12703</td>\n",
       "      <td>https://i.ytimg.com/vi/1ZAPwfrtAFY/default.jpg</td>\n",
       "      <td>False</td>\n",
       "      <td>False</td>\n",
       "      <td>False</td>\n",
       "      <td>One year after the presidential election, John...</td>\n",
       "    </tr>\n",
       "    <tr>\n",
       "      <th>2</th>\n",
       "      <td>5qpjK5DgCt4</td>\n",
       "      <td>17.14.11</td>\n",
       "      <td>Racist Superman | Rudy Mancuso, King Bach &amp; Le...</td>\n",
       "      <td>Rudy Mancuso</td>\n",
       "      <td>23</td>\n",
       "      <td>2017-11-12T19:05:24.000Z</td>\n",
       "      <td>racist superman|\"rudy\"|\"mancuso\"|\"king\"|\"bach\"...</td>\n",
       "      <td>3191434</td>\n",
       "      <td>146033</td>\n",
       "      <td>5339</td>\n",
       "      <td>8181</td>\n",
       "      <td>https://i.ytimg.com/vi/5qpjK5DgCt4/default.jpg</td>\n",
       "      <td>False</td>\n",
       "      <td>False</td>\n",
       "      <td>False</td>\n",
       "      <td>WATCH MY PREVIOUS VIDEO ▶ \\n\\nSUBSCRIBE ► http...</td>\n",
       "    </tr>\n",
       "    <tr>\n",
       "      <th>3</th>\n",
       "      <td>puqaWrEC7tY</td>\n",
       "      <td>17.14.11</td>\n",
       "      <td>Nickelback Lyrics: Real or Fake?</td>\n",
       "      <td>Good Mythical Morning</td>\n",
       "      <td>24</td>\n",
       "      <td>2017-11-13T11:00:04.000Z</td>\n",
       "      <td>rhett and link|\"gmm\"|\"good mythical morning\"|\"...</td>\n",
       "      <td>343168</td>\n",
       "      <td>10172</td>\n",
       "      <td>666</td>\n",
       "      <td>2146</td>\n",
       "      <td>https://i.ytimg.com/vi/puqaWrEC7tY/default.jpg</td>\n",
       "      <td>False</td>\n",
       "      <td>False</td>\n",
       "      <td>False</td>\n",
       "      <td>Today we find out if Link is a Nickelback amat...</td>\n",
       "    </tr>\n",
       "    <tr>\n",
       "      <th>4</th>\n",
       "      <td>d380meD0W0M</td>\n",
       "      <td>17.14.11</td>\n",
       "      <td>I Dare You: GOING BALD!?</td>\n",
       "      <td>nigahiga</td>\n",
       "      <td>24</td>\n",
       "      <td>2017-11-12T18:01:41.000Z</td>\n",
       "      <td>ryan|\"higa\"|\"higatv\"|\"nigahiga\"|\"i dare you\"|\"...</td>\n",
       "      <td>2095731</td>\n",
       "      <td>132235</td>\n",
       "      <td>1989</td>\n",
       "      <td>17518</td>\n",
       "      <td>https://i.ytimg.com/vi/d380meD0W0M/default.jpg</td>\n",
       "      <td>False</td>\n",
       "      <td>False</td>\n",
       "      <td>False</td>\n",
       "      <td>I know it's been a while since we did this sho...</td>\n",
       "    </tr>\n",
       "  </tbody>\n",
       "</table>\n",
       "</div>"
      ],
      "text/plain": [
       "      video_id trending_date  \\\n",
       "0  2kyS6SvSYSE      17.14.11   \n",
       "1  1ZAPwfrtAFY      17.14.11   \n",
       "2  5qpjK5DgCt4      17.14.11   \n",
       "3  puqaWrEC7tY      17.14.11   \n",
       "4  d380meD0W0M      17.14.11   \n",
       "\n",
       "                                               title          channel_title  \\\n",
       "0                 WE WANT TO TALK ABOUT OUR MARRIAGE           CaseyNeistat   \n",
       "1  The Trump Presidency: Last Week Tonight with J...        LastWeekTonight   \n",
       "2  Racist Superman | Rudy Mancuso, King Bach & Le...           Rudy Mancuso   \n",
       "3                   Nickelback Lyrics: Real or Fake?  Good Mythical Morning   \n",
       "4                           I Dare You: GOING BALD!?               nigahiga   \n",
       "\n",
       "   category_id              publish_time  \\\n",
       "0           22  2017-11-13T17:13:01.000Z   \n",
       "1           24  2017-11-13T07:30:00.000Z   \n",
       "2           23  2017-11-12T19:05:24.000Z   \n",
       "3           24  2017-11-13T11:00:04.000Z   \n",
       "4           24  2017-11-12T18:01:41.000Z   \n",
       "\n",
       "                                                tags    views   likes  \\\n",
       "0                                    SHANtell martin   748374   57527   \n",
       "1  last week tonight trump presidency|\"last week ...  2418783   97185   \n",
       "2  racist superman|\"rudy\"|\"mancuso\"|\"king\"|\"bach\"...  3191434  146033   \n",
       "3  rhett and link|\"gmm\"|\"good mythical morning\"|\"...   343168   10172   \n",
       "4  ryan|\"higa\"|\"higatv\"|\"nigahiga\"|\"i dare you\"|\"...  2095731  132235   \n",
       "\n",
       "   dislikes  comment_count                                  thumbnail_link  \\\n",
       "0      2966          15954  https://i.ytimg.com/vi/2kyS6SvSYSE/default.jpg   \n",
       "1      6146          12703  https://i.ytimg.com/vi/1ZAPwfrtAFY/default.jpg   \n",
       "2      5339           8181  https://i.ytimg.com/vi/5qpjK5DgCt4/default.jpg   \n",
       "3       666           2146  https://i.ytimg.com/vi/puqaWrEC7tY/default.jpg   \n",
       "4      1989          17518  https://i.ytimg.com/vi/d380meD0W0M/default.jpg   \n",
       "\n",
       "   comments_disabled  ratings_disabled  video_error_or_removed  \\\n",
       "0              False             False                   False   \n",
       "1              False             False                   False   \n",
       "2              False             False                   False   \n",
       "3              False             False                   False   \n",
       "4              False             False                   False   \n",
       "\n",
       "                                         description  \n",
       "0  SHANTELL'S CHANNEL - https://www.youtube.com/s...  \n",
       "1  One year after the presidential election, John...  \n",
       "2  WATCH MY PREVIOUS VIDEO ▶ \\n\\nSUBSCRIBE ► http...  \n",
       "3  Today we find out if Link is a Nickelback amat...  \n",
       "4  I know it's been a while since we did this sho...  "
      ]
     },
     "execution_count": 21,
     "metadata": {},
     "output_type": "execute_result"
    }
   ],
   "source": [
    "import pandas as pd\n",
    "import numpy as np\n",
    "import json as js\n",
    "import matplotlib.pyplot as plt\n",
    "import seaborn as sns\n",
    "import Orange as og\n",
    "import orangecontrib.associate.fpgrowth as oaf\n",
    "%matplotlib inline\n",
    "\n",
    "data = pd.read_csv(\"USvideos.csv\",encoding=\"utf-8\")\n",
    "data.head(5)"
   ]
  },
  {
   "cell_type": "code",
   "execution_count": 22,
   "metadata": {},
   "outputs": [
    {
     "data": {
      "text/plain": [
       "(40949, 16)"
      ]
     },
     "execution_count": 22,
     "metadata": {},
     "output_type": "execute_result"
    }
   ],
   "source": [
    "data.shape"
   ]
  },
  {
   "cell_type": "markdown",
   "metadata": {},
   "source": [
    "#### 通过观察部分数据可以得出，数据所包含的属性有video_id,trending_date,title,channel_title,category_id,publish_time,tags,views,likes,dislikes,comment_count,thumbnail_link,comments_disabled,ratings_disabled,video_error_or_removed,discription这16个属性，我挑选出个人认为比较有频繁模式和关联规则挖掘潜力的属性\n",
    "- 频道标题：channel_title\n",
    "- 类别id：category_id\n",
    "- 标签:tags\n",
    "- 观看人数:views\n",
    "- 喜欢与不喜欢:likes & dislikes\n",
    "- 评论数:comments_count\n",
    "### 将Json文件导入，用类别的名称来代替ID号，并且将数值属性调整为非数值状态便于后面进行频繁模式操作"
   ]
  },
  {
   "cell_type": "code",
   "execution_count": 23,
   "metadata": {},
   "outputs": [
    {
     "data": {
      "text/plain": [
       "0    People & Blogs\n",
       "1     Entertainment\n",
       "2            Comedy\n",
       "3     Entertainment\n",
       "4     Entertainment\n",
       "Name: category_id, dtype: object"
      ]
     },
     "execution_count": 23,
     "metadata": {},
     "output_type": "execute_result"
    }
   ],
   "source": [
    "with open('US_category_id.json') as f:\n",
    "    jdata=js.load(f)\n",
    "    f.close()\n",
    "\n",
    "#将类别id号替换成类别名称\n",
    "id2name={}\n",
    "for i in range(len(jdata['items'])):\n",
    "    id2name[jdata['items'][i]['id']]=jdata['items'][i]['snippet']['title']\n",
    "for i in range(len(data)):\n",
    "    id=data.loc[i,'category_id']\n",
    "    data.loc[i,'category_id']=id2name[str(id)]\n",
    "data['category_id'].head(5) #替换后的效果"
   ]
  },
  {
   "cell_type": "markdown",
   "metadata": {},
   "source": [
    "### 接下来进行喜欢与不喜欢、观看人数、评论数将数值属性转换为非数值属性的处理\n",
    "- likes & dislikes可以分为三类标签，其中当$likes\\div(likes+dislikes) \\geq 75\\%$时，我们标记该视频为Good;当$likes\\div(likes+dislikes) \\leq 25\\%$时，我们标记该视频为Bad;位于中间的我们标记该视频为Medium。"
   ]
  },
  {
   "cell_type": "code",
   "execution_count": 24,
   "metadata": {},
   "outputs": [
    {
     "name": "stdout",
     "output_type": "stream",
     "text": [
      "['Good', 'Good', 'Good', 'Good', 'Good', 'Good', 'Good', 'Good', 'Good', 'Good', 'Good', 'Good', 'Good', 'Good', 'Good', 'Good', 'Good', 'Good', 'Good', 'Good', 'Good', 'Good', 'Good', 'Medium', 'Good', 'Good', 'Good', 'Good', 'Good', 'Good', 'Good', 'Medium', 'Good', 'Good', 'Good', 'Good', 'Good', 'Good', 'Good', 'Good', 'Good', 'Good', 'Medium', 'Medium', 'Medium', 'Good', 'Good', 'Medium', 'Medium', 'Good', 'Good', 'Good', 'Good', 'Good', 'Good', 'Good', 'Good', 'Medium', 'Good', 'Good', 'Good', 'Good', 'Good', 'Good', 'Good', 'Good', 'Good', 'Good', 'Good', 'Good', 'Good', 'Good', 'Good', 'Good', 'Good', 'Medium', 'Good', 'Good', 'Good', 'Good', 'Good', 'Good', 'Good', 'Good', 'Good', 'Good', 'Good', 'Good', 'Good', 'Good', 'Good', 'Good', 'Good', 'Good', 'Good', 'Good', 'Good', 'Good', 'Good', 'Good']\n"
     ]
    }
   ],
   "source": [
    "like = []\n",
    "np.seterr(invalid='ignore') #可能有分母为零的时候，进行忽略，不然会报错\n",
    "for i in range(len(data)):\n",
    "    temp=data.loc[i, 'likes']/(data.loc[i, 'likes']+data.loc[i, 'dislikes'])\n",
    "    if temp >= 0.75:\n",
    "        like.append('Good')\n",
    "    elif temp <= 0.25:\n",
    "        like.append('Bad')\n",
    "    else:\n",
    "        like.append('Medium')\n",
    "print(like[0:100])"
   ]
  },
  {
   "cell_type": "markdown",
   "metadata": {},
   "source": [
    "- 对于views，首先计算全部视频views的四分之一分位数和四分之三分位数，大于四分之三分位数的数据记为\"high view\"，小于四分之一分位数的数据记为\"low view\"，其余的记为\"medium view\"。"
   ]
  },
  {
   "cell_type": "code",
   "execution_count": 25,
   "metadata": {},
   "outputs": [
    {
     "name": "stdout",
     "output_type": "stream",
     "text": [
      "['medium view', 'high view', 'high view', 'medium view', 'high view', 'low view', 'high view', 'medium view', 'medium view', 'medium view', 'low view', 'low view', 'medium view', 'medium view', 'low view', 'low view', 'medium view', 'low view', 'low view', 'low view', 'low view', 'low view', 'low view', 'low view', 'low view', 'low view', 'low view', 'low view', 'low view', 'low view', 'low view', 'low view', 'high view', 'low view', 'low view', 'low view', 'medium view', 'low view', 'medium view', 'low view', 'low view', 'low view', 'low view', 'medium view', 'medium view', 'medium view', 'low view', 'medium view', 'low view', 'high view', 'high view', 'low view', 'medium view', 'high view', 'low view', 'medium view', 'low view', 'low view', 'low view', 'medium view', 'medium view', 'low view', 'medium view', 'high view', 'low view', 'medium view', 'high view', 'high view', 'low view', 'high view', 'high view', 'low view', 'low view', 'low view', 'medium view', 'low view', 'low view', 'medium view', 'medium view', 'low view', 'medium view', 'medium view', 'low view', 'low view', 'low view', 'low view', 'medium view', 'low view', 'medium view', 'medium view', 'low view', 'high view', 'low view', 'high view', 'high view', 'low view', 'medium view', 'medium view', 'high view', 'low view']\n"
     ]
    }
   ],
   "source": [
    "views = data['views']\n",
    "quarter = views.quantile(0.25)\n",
    "three_quarters = views.quantile(0.75)\n",
    "view = []\n",
    "for i in data['views']:\n",
    "    if int(i) >= three_quarters:\n",
    "        view.append('high view')\n",
    "    elif int(i) <= quarter:\n",
    "        view.append('low view')\n",
    "    else:\n",
    "        view.append('medium view')\n",
    "print(view[:100])"
   ]
  },
  {
   "cell_type": "markdown",
   "metadata": {},
   "source": [
    "- 对于comments，首先计算全部视频comments的四分之一分位数和四分之三分位数，大于四分之三分位数的数据记为\"high comment\"，小于四分之一分位数的数据记为\"low comment\"，其余的记为\"medium comment\"。"
   ]
  },
  {
   "cell_type": "code",
   "execution_count": 26,
   "metadata": {},
   "outputs": [
    {
     "name": "stdout",
     "output_type": "stream",
     "text": [
      "['high comment', 'high comment', 'high comment', 'medium comment', 'high comment', 'medium comment', 'medium comment', 'medium comment', 'low comment', 'medium comment', 'low comment', 'medium comment', 'high comment', 'medium comment', 'medium comment', 'medium comment', 'medium comment', 'low comment', 'medium comment', 'medium comment', 'medium comment', 'low comment', 'medium comment', 'medium comment', 'low comment', 'medium comment', 'low comment', 'medium comment', 'low comment', 'low comment', 'low comment', 'low comment', 'high comment', 'medium comment', 'low comment', 'low comment', 'medium comment', 'low comment', 'medium comment', 'low comment', 'low comment', 'low comment', 'low comment', 'high comment', 'medium comment', 'medium comment', 'low comment', 'medium comment', 'low comment', 'high comment', 'high comment', 'low comment', 'medium comment', 'high comment', 'low comment', 'low comment', 'low comment', 'low comment', 'low comment', 'medium comment', 'medium comment', 'low comment', 'medium comment', 'high comment', 'low comment', 'medium comment', 'high comment', 'high comment', 'low comment', 'high comment', 'high comment', 'low comment', 'low comment', 'medium comment', 'medium comment', 'medium comment', 'low comment', 'medium comment', 'medium comment', 'low comment', 'medium comment', 'medium comment', 'low comment', 'low comment', 'low comment', 'low comment', 'medium comment', 'low comment', 'medium comment', 'high comment', 'low comment', 'medium comment', 'low comment', 'high comment', 'high comment', 'medium comment', 'medium comment', 'medium comment', 'high comment', 'medium comment']\n"
     ]
    }
   ],
   "source": [
    "comments = data['comment_count']\n",
    "quarter = comments.quantile(0.25)\n",
    "three_quarters = comments.quantile(0.75)\n",
    "comment = []\n",
    "for i in data['comment_count']:\n",
    "    if i >= three_quarters:\n",
    "        comment.append('high comment')\n",
    "    elif i <= quarter:\n",
    "        comment.append('low comment')\n",
    "    else:\n",
    "        comment.append('medium comment')\n",
    "print(comment[0:100])"
   ]
  },
  {
   "cell_type": "markdown",
   "metadata": {},
   "source": [
    "- 替换原始数据中的数值属性为非数值属性并且删除不要的属性"
   ]
  },
  {
   "cell_type": "code",
   "execution_count": 28,
   "metadata": {},
   "outputs": [
    {
     "data": {
      "text/html": [
       "<div>\n",
       "<style scoped>\n",
       "    .dataframe tbody tr th:only-of-type {\n",
       "        vertical-align: middle;\n",
       "    }\n",
       "\n",
       "    .dataframe tbody tr th {\n",
       "        vertical-align: top;\n",
       "    }\n",
       "\n",
       "    .dataframe thead th {\n",
       "        text-align: right;\n",
       "    }\n",
       "</style>\n",
       "<table border=\"1\" class=\"dataframe\">\n",
       "  <thead>\n",
       "    <tr style=\"text-align: right;\">\n",
       "      <th></th>\n",
       "      <th>comment_count</th>\n",
       "      <th>like</th>\n",
       "      <th>views</th>\n",
       "      <th>channel_title</th>\n",
       "      <th>category_id</th>\n",
       "      <th>tags</th>\n",
       "    </tr>\n",
       "  </thead>\n",
       "  <tbody>\n",
       "    <tr>\n",
       "      <th>0</th>\n",
       "      <td>high comment</td>\n",
       "      <td>Good</td>\n",
       "      <td>medium view</td>\n",
       "      <td>CaseyNeistat</td>\n",
       "      <td>People &amp; Blogs</td>\n",
       "      <td>SHANtell martin</td>\n",
       "    </tr>\n",
       "    <tr>\n",
       "      <th>1</th>\n",
       "      <td>high comment</td>\n",
       "      <td>Good</td>\n",
       "      <td>high view</td>\n",
       "      <td>LastWeekTonight</td>\n",
       "      <td>Entertainment</td>\n",
       "      <td>last week tonight trump presidency|\"last week ...</td>\n",
       "    </tr>\n",
       "    <tr>\n",
       "      <th>2</th>\n",
       "      <td>high comment</td>\n",
       "      <td>Good</td>\n",
       "      <td>high view</td>\n",
       "      <td>Rudy Mancuso</td>\n",
       "      <td>Comedy</td>\n",
       "      <td>racist superman|\"rudy\"|\"mancuso\"|\"king\"|\"bach\"...</td>\n",
       "    </tr>\n",
       "    <tr>\n",
       "      <th>3</th>\n",
       "      <td>medium comment</td>\n",
       "      <td>Good</td>\n",
       "      <td>medium view</td>\n",
       "      <td>Good Mythical Morning</td>\n",
       "      <td>Entertainment</td>\n",
       "      <td>rhett and link|\"gmm\"|\"good mythical morning\"|\"...</td>\n",
       "    </tr>\n",
       "    <tr>\n",
       "      <th>4</th>\n",
       "      <td>high comment</td>\n",
       "      <td>Good</td>\n",
       "      <td>high view</td>\n",
       "      <td>nigahiga</td>\n",
       "      <td>Entertainment</td>\n",
       "      <td>ryan|\"higa\"|\"higatv\"|\"nigahiga\"|\"i dare you\"|\"...</td>\n",
       "    </tr>\n",
       "    <tr>\n",
       "      <th>5</th>\n",
       "      <td>medium comment</td>\n",
       "      <td>Good</td>\n",
       "      <td>low view</td>\n",
       "      <td>iJustine</td>\n",
       "      <td>Science &amp; Technology</td>\n",
       "      <td>ijustine|\"week with iPhone X\"|\"iphone x\"|\"appl...</td>\n",
       "    </tr>\n",
       "    <tr>\n",
       "      <th>6</th>\n",
       "      <td>medium comment</td>\n",
       "      <td>Good</td>\n",
       "      <td>high view</td>\n",
       "      <td>Saturday Night Live</td>\n",
       "      <td>Entertainment</td>\n",
       "      <td>SNL|\"Saturday Night Live\"|\"SNL Season 43\"|\"Epi...</td>\n",
       "    </tr>\n",
       "    <tr>\n",
       "      <th>7</th>\n",
       "      <td>medium comment</td>\n",
       "      <td>Good</td>\n",
       "      <td>medium view</td>\n",
       "      <td>CrazyRussianHacker</td>\n",
       "      <td>Science &amp; Technology</td>\n",
       "      <td>5 Ice Cream Gadgets|\"Ice Cream\"|\"Cream Sandwic...</td>\n",
       "    </tr>\n",
       "    <tr>\n",
       "      <th>8</th>\n",
       "      <td>low comment</td>\n",
       "      <td>Good</td>\n",
       "      <td>medium view</td>\n",
       "      <td>20th Century Fox</td>\n",
       "      <td>Film &amp; Animation</td>\n",
       "      <td>Trailer|\"Hugh Jackman\"|\"Michelle Williams\"|\"Za...</td>\n",
       "    </tr>\n",
       "    <tr>\n",
       "      <th>9</th>\n",
       "      <td>medium comment</td>\n",
       "      <td>Good</td>\n",
       "      <td>medium view</td>\n",
       "      <td>Vox</td>\n",
       "      <td>News &amp; Politics</td>\n",
       "      <td>vox.com|\"vox\"|\"explain\"|\"shift change\"|\"future...</td>\n",
       "    </tr>\n",
       "  </tbody>\n",
       "</table>\n",
       "</div>"
      ],
      "text/plain": [
       "    comment_count  like        views          channel_title  \\\n",
       "0    high comment  Good  medium view           CaseyNeistat   \n",
       "1    high comment  Good    high view        LastWeekTonight   \n",
       "2    high comment  Good    high view           Rudy Mancuso   \n",
       "3  medium comment  Good  medium view  Good Mythical Morning   \n",
       "4    high comment  Good    high view               nigahiga   \n",
       "5  medium comment  Good     low view               iJustine   \n",
       "6  medium comment  Good    high view    Saturday Night Live   \n",
       "7  medium comment  Good  medium view     CrazyRussianHacker   \n",
       "8     low comment  Good  medium view       20th Century Fox   \n",
       "9  medium comment  Good  medium view                    Vox   \n",
       "\n",
       "            category_id                                               tags  \n",
       "0        People & Blogs                                    SHANtell martin  \n",
       "1         Entertainment  last week tonight trump presidency|\"last week ...  \n",
       "2                Comedy  racist superman|\"rudy\"|\"mancuso\"|\"king\"|\"bach\"...  \n",
       "3         Entertainment  rhett and link|\"gmm\"|\"good mythical morning\"|\"...  \n",
       "4         Entertainment  ryan|\"higa\"|\"higatv\"|\"nigahiga\"|\"i dare you\"|\"...  \n",
       "5  Science & Technology  ijustine|\"week with iPhone X\"|\"iphone x\"|\"appl...  \n",
       "6         Entertainment  SNL|\"Saturday Night Live\"|\"SNL Season 43\"|\"Epi...  \n",
       "7  Science & Technology  5 Ice Cream Gadgets|\"Ice Cream\"|\"Cream Sandwic...  \n",
       "8      Film & Animation  Trailer|\"Hugh Jackman\"|\"Michelle Williams\"|\"Za...  \n",
       "9       News & Politics  vox.com|\"vox\"|\"explain\"|\"shift change\"|\"future...  "
      ]
     },
     "execution_count": 28,
     "metadata": {},
     "output_type": "execute_result"
    }
   ],
   "source": [
    "data1 = data.drop(['views', 'likes', 'dislikes', 'comment_count'], axis = 1)\n",
    "data_pro = data1.drop(['video_id', 'trending_date', 'publish_time', 'video_error_or_removed', 'description', 'thumbnail_link', 'title', 'comments_disabled', 'ratings_disabled'], axis = 1)\n",
    "data_pro.insert(0, 'views', view)\n",
    "data_pro.insert(0, 'like', like)\n",
    "data_pro.insert(0, 'comment_count', comment)\n",
    "data_pro.head(10)"
   ]
  },
  {
   "cell_type": "markdown",
   "metadata": {},
   "source": [
    "## 方法分析\n",
    "关联分析方法在python中有两个包包含具体实现：\n",
    "- pymining：根据Apriori算法进行关联规则挖掘\n",
    "- Orange3的关联规则：根据FP-growth算法进行关联规则挖掘\n",
    "\n",
    "最终我选用Orange库进行关联规则实现，原因是：\n",
    "- FP-growth算法比Apriori算法时间复杂度低\n",
    "- Orange3是一整套数据挖掘工具包，学习后可以熟悉相关操作，进行其他的数据挖掘算法的研究\n",
    "- pymining不再维护，Orange3仍然是一个非常活跃的包，更新频繁\n",
    "- Orange3实现的结果比较多，除了规则外，还能够计算出评价结果的相关数据\n",
    "\n",
    "> 注意：Orange3的关联分析模块安装时需要在Anaconda的命令行窗口中输入以下命令:\n",
    "pip install orange3-associate\n",
    "\n",
    "因为orangecontrib.associate.fpgrowth包在进行频繁模式与关联规则挖掘时，数据必须为整数类型，因此需要将字符串数据存储为一个对应的整数hash表。"
   ]
  },
  {
   "cell_type": "code",
   "execution_count": 30,
   "metadata": {},
   "outputs": [
    {
     "name": "stdout",
     "output_type": "stream",
     "text": [
      "[[0, 1, 2, 3, 4, 5], [0, 1, 6, 7, 8, 9, 10, 11, 12], [0, 1, 6, 13, 14, 15, 16, 17, 18, 19, 20, 21, 22, 23, 24, 25, 26, 27, 28, 29, 30, 31, 32, 33, 34, 35, 36, 37], [38, 1, 2, 39, 8, 40, 41, 42, 43, 44, 45, 46, 47, 48, 49, 50, 51, 52, 53, 54, 55, 56, 57, 58, 59, 60, 61, 62, 63, 64, 65, 66], [0, 1, 6, 67, 8, 68, 69, 70, 71, 72, 73, 74, 75, 76, 77, 64, 65, 78, 79], [38, 1, 80, 81, 82, 83, 84, 85, 86, 87, 88, 89], [38, 1, 6, 90, 8, 91, 92, 93, 94, 95, 96, 97, 98, 99, 100, 101, 102, 103, 104, 105, 106, 64, 107, 65, 108, 109, 110, 57, 111, 112, 113, 114, 115, 116, 117, 118, 119, 120, 121, 122, 123, 124, 125, 126, 127, 128, 129], [38, 1, 2, 130, 82, 131, 132, 133, 134, 135, 136, 137, 138, 139, 140, 141, 142, 143], [144, 1, 2, 145, 146, 147, 148, 149, 150, 151, 152, 153, 154, 155, 156, 157, 158, 159, 160, 161, 162, 163, 164, 165, 166, 167, 168, 169, 170, 171, 172, 173, 174], [38, 1, 2, 175, 176, 177, 178, 179, 180, 181, 182, 183, 184, 185, 186, 187, 188, 189, 190, 191, 192, 193, 194, 195, 196]]\n"
     ]
    }
   ],
   "source": [
    "id2str = {}   # 整数编码 —> 字符串\n",
    "str2id = {}   # 字符串 -> 整数编码\n",
    "id = 0\n",
    "transaction = []\n",
    "for i in range(len(data_pro)):\n",
    "    one = []\n",
    "    for j in data_pro.columns:\n",
    "        # 拆分tags\n",
    "        if j == 'tags':\n",
    "            str_arr = data_pro.loc[i, j].split('|')\n",
    "            for s in str_arr:\n",
    "                if s in str2id:\n",
    "                    one.append(str2id[s])\n",
    "                else:\n",
    "                    id2str[id] = s\n",
    "                    str2id[s] = id\n",
    "                    one.append(id)\n",
    "                    id += 1\n",
    "        else:\n",
    "            if data_pro.loc[i, j] in str2id:\n",
    "                one.append(str2id[data_pro.loc[i, j]])\n",
    "            else:\n",
    "                id2str[id] = data_pro.loc[i, j]\n",
    "                str2id[data_pro.loc[i, j]] = id\n",
    "                one.append(id)\n",
    "                id += 1\n",
    "    transaction.append(one)\n",
    "print(transaction[:10])"
   ]
  },
  {
   "cell_type": "markdown",
   "metadata": {},
   "source": [
    "## 频繁模式\n",
    "- 函数fpgrowth.frequent_itemsets(X, min_support=0.2) 这个函数代表计算给定支持度下得到的频繁项集，返回的是一个频繁项集的列表生成\n",
    "- min_support代表关联规则设置的置信度，默认为0.2\n",
    "\n",
    "> 注意：该函数返回的列表生成器只能使用一次，我在这里调试时出了好多次错误，每次用完后我调用这个生成器， 然后总是得到空集，所以干脆直接返回值包上字典函数dict并返回给变量itemsets，这样可以多次使用"
   ]
  },
  {
   "cell_type": "code",
   "execution_count": 46,
   "metadata": {},
   "outputs": [
    {
     "name": "stdout",
     "output_type": "stream",
     "text": [
      "['high comment'] 9174 0.25\n",
      "['Good'] 9174 0.95\n",
      "['high comment', 'Good'] 9174 0.24\n",
      "['medium view'] 9174 0.5\n",
      "['Good', 'medium view'] 9174 0.48\n",
      "['high view'] 9174 0.25\n",
      "['Good', 'high view'] 9174 0.24\n",
      "['Entertainment'] 9174 0.24\n",
      "['Entertainment', 'Good'] 9174 0.23\n",
      "['medium comment'] 9174 0.5\n",
      "['Good', 'medium comment'] 9174 0.48\n",
      "['medium view', 'medium comment'] 9174 0.37\n",
      "['Good', 'medium view', 'medium comment'] 9174 0.36\n",
      "['low view'] 9174 0.25\n",
      "['low view', 'Good'] 9174 0.22\n",
      "['low comment'] 9174 0.25\n",
      "['low comment', 'Good'] 9174 0.22\n"
     ]
    }
   ],
   "source": [
    "frequent_pattern = list(oaf.frequent_itemsets(transaction))\n",
    "for i in frequent_pattern:\n",
    "    x = []\n",
    "    y = i[1]\n",
    "    for j in i[0]:\n",
    "        x.append(id2str[j])\n",
    "    print(x, abs_sup, round(float(y) / len(data), 2))"
   ]
  },
  {
   "cell_type": "markdown",
   "metadata": {},
   "source": [
    "## 关联规则\n",
    "- fpgrowth.association_rules(itemsets, min_confidence, itemset=None) 这个函数代表在给定置信度和第一步得到的频繁项集的情况下得到关联规则"
   ]
  },
  {
   "cell_type": "code",
   "execution_count": 47,
   "metadata": {},
   "outputs": [
    {
     "name": "stdout",
     "output_type": "stream",
     "text": [
      "['medium view', 'medium comment'] -> ['Good'] 14623 0.97\n",
      "['Good', 'medium comment'] -> ['medium view'] 14623 0.74\n",
      "['medium comment'] -> ['Good', 'medium view'] 14623 0.71\n",
      "['Good', 'medium view'] -> ['medium comment'] 14623 0.74\n",
      "['medium view'] -> ['Good', 'medium comment'] 14623 0.71\n",
      "['Good'] -> ['medium view', 'medium comment'] 14623 0.38\n",
      "['Good'] -> ['high comment'] 9904 0.26\n",
      "['high comment'] -> ['Good'] 9904 0.97\n",
      "['medium view'] -> ['Good'] 19665 0.96\n",
      "['Good'] -> ['medium view'] 19665 0.51\n",
      "['high view'] -> ['Good'] 9965 0.97\n",
      "['Good'] -> ['high view'] 9965 0.26\n",
      "['Good'] -> ['Entertainment'] 9371 0.24\n",
      "['Entertainment'] -> ['Good'] 9371 0.94\n",
      "['medium comment'] -> ['Good'] 19657 0.96\n",
      "['Good'] -> ['medium comment'] 19657 0.51\n",
      "['medium comment'] -> ['medium view'] 15081 0.74\n",
      "['medium view'] -> ['medium comment'] 15081 0.74\n",
      "['Good'] -> ['low view'] 9105 0.24\n",
      "['low view'] -> ['Good'] 9105 0.89\n",
      "['Good'] -> ['low comment'] 9174 0.24\n",
      "['low comment'] -> ['Good'] 9174 0.9\n"
     ]
    }
   ],
   "source": [
    "frequent_pattern = list(oaf.frequent_itemsets(transaction, 0.2))\n",
    "rules = list(oaf.association_rules(dict(frequent_pattern), 0.2))\n",
    "for i in rules:\n",
    "    x = []\n",
    "    y = []\n",
    "    for j in i[0]:\n",
    "        x.append(id2str[j])\n",
    "    for j in i[1]:\n",
    "        y.append(id2str[j])\n",
    "    print(x, \"->\", y, i[2], round(i[3],2))"
   ]
  },
  {
   "cell_type": "markdown",
   "metadata": {},
   "source": [
    "- 观察生成规则"
   ]
  },
  {
   "cell_type": "code",
   "execution_count": 45,
   "metadata": {},
   "outputs": [
    {
     "name": "stdout",
     "output_type": "stream",
     "text": [
      "22\n"
     ]
    }
   ],
   "source": [
    "print(len(rules))"
   ]
  },
  {
   "cell_type": "markdown",
   "metadata": {},
   "source": [
    "### 共有22条生产规则，对此进行评价分析，采用Lift和卡方进行评价。\n",
    "## Lift"
   ]
  },
  {
   "cell_type": "code",
   "execution_count": 49,
   "metadata": {},
   "outputs": [
    {
     "name": "stdout",
     "output_type": "stream",
     "text": [
      "['medium view', 'medium comment'] -> ['Good'] 1.03\n",
      "['Good', 'medium comment'] -> ['medium view'] 1.49\n",
      "['medium comment'] -> ['Good', 'medium view'] 1.49\n",
      "['Good', 'medium view'] -> ['medium comment'] 1.49\n",
      "['medium view'] -> ['Good', 'medium comment'] 1.49\n",
      "['Good'] -> ['medium view', 'medium comment'] 1.03\n",
      "['Good'] -> ['high comment'] 1.02\n",
      "['high comment'] -> ['Good'] 1.02\n",
      "['medium view'] -> ['Good'] 1.02\n",
      "['Good'] -> ['medium view'] 1.02\n",
      "['high view'] -> ['Good'] 1.03\n",
      "['Good'] -> ['high view'] 1.03\n",
      "['Good'] -> ['Entertainment'] 0.99\n",
      "['Entertainment'] -> ['Good'] 0.99\n",
      "['medium comment'] -> ['Good'] 1.02\n",
      "['Good'] -> ['medium comment'] 1.02\n",
      "['medium comment'] -> ['medium view'] 1.47\n",
      "['medium view'] -> ['medium comment'] 1.47\n",
      "['Good'] -> ['low view'] 0.94\n",
      "['low view'] -> ['Good'] 0.94\n",
      "['Good'] -> ['low comment'] 0.95\n",
      "['low comment'] -> ['Good'] 0.95\n"
     ]
    }
   ],
   "source": [
    "Lift = list(oaf.rules_stats(oaf.association_rules(dict(frequent_pattern), 0.2), dict(oaf.frequent_itemsets(transaction, 0.2)), len(data_pro)))\n",
    "for i in Lift:\n",
    "    x = []\n",
    "    y = []\n",
    "    for j in i[0]:\n",
    "        x.append(id2str[j])\n",
    "    for j in i[1]:\n",
    "        y.append(id2str[j])\n",
    "    print(x, \"->\", y, round(i[6], 2))"
   ]
  },
  {
   "cell_type": "markdown",
   "metadata": {},
   "source": [
    "## 卡方"
   ]
  },
  {
   "cell_type": "code",
   "execution_count": 50,
   "metadata": {},
   "outputs": [
    {
     "name": "stdout",
     "output_type": "stream",
     "text": [
      "Kulc( ['medium view', 'medium comment'] ['Good'] ) =  0.67\n",
      "Kulc( ['Good', 'medium comment'] ['medium view'] ) =  0.73\n",
      "Kulc( ['medium comment'] ['Good', 'medium view'] ) =  0.73\n",
      "Kulc( ['Good'] ['high comment'] ) =  0.61\n",
      "Kulc( ['medium view'] ['Good'] ) =  0.73\n",
      "Kulc( ['high view'] ['Good'] ) =  0.62\n",
      "Kulc( ['Good'] ['Entertainment'] ) =  0.59\n",
      "Kulc( ['medium comment'] ['Good'] ) =  0.73\n",
      "Kulc( ['medium comment'] ['medium view'] ) =  0.74\n",
      "Kulc( ['Good'] ['low view'] ) =  0.56\n",
      "Kulc( ['Good'] ['low comment'] ) =  0.57\n"
     ]
    }
   ],
   "source": [
    "kulc = []\n",
    "visit = [False for i in range(len(rules))]\n",
    "for i in range(len(rules)):\n",
    "    if visit[i] == True:\n",
    "        continue\n",
    "    visit[i] = True\n",
    "    for j in range(len(rules)):\n",
    "        if visit[j] == True:\n",
    "            continue\n",
    "        if rules[j][0] == rules[i][1] and rules[j][1] == rules[i][0]:\n",
    "            one = []\n",
    "            x = []\n",
    "            y = []\n",
    "            for k in rules[i][0]:\n",
    "                x.append(id2str[k])\n",
    "            for k in rules[i][1]:\n",
    "                y.append(id2str[k])\n",
    "            one.append(rules[i][0])\n",
    "            one.append(rules[i][1])\n",
    "            one.append((rules[i][3] + rules[j][3])/2)\n",
    "            kulc.append(one)\n",
    "            print('Kulc(', x, y, ') = ', round((rules[i][3] + rules[j][3])/2, 2))\n",
    "            visit[j] = True"
   ]
  },
  {
   "cell_type": "markdown",
   "metadata": {},
   "source": [
    "### 规则评价\n",
    "- Lift评价标准用来检测X与Y是否独立，如果Lift值大于1则说明X、Y正相关；Lift小于1则说明X、Y负相关\n",
    "- Kulc用来评价每条规则的反向规则\n",
    "\n",
    "**观察数据可以发现，Lift数值较大或较小的即关联性大的数据有6条：**\n",
    "- ['Good', 'medium comment'] -> ['medium view'] 1.49\n",
    "- ['medium comment'] -> ['Good', 'medium view'] 1.49\n",
    "- ['Good', 'medium view'] -> ['medium comment'] 1.49\n",
    "- ['medium view'] -> ['Good', 'medium comment'] 1.49\n",
    "- ['medium comment'] -> ['medium view'] 1.47\n",
    "- ['medium view'] -> ['medium comment'] 1.47\n",
    "\n",
    "**观察数据可以发现，Kulc数值较大即关联性大的数据有5条：**\n",
    "- Kulc( ['Good', 'medium comment'] ['medium view'] ) =  0.73\n",
    "- Kulc( ['medium comment'] ['Good', 'medium view'] ) =  0.73\n",
    "- Kulc( ['medium view'] ['Good'] ) =  0.73\n",
    "- Kulc( ['medium comment'] ['Good'] ) =  0.73\n",
    "- Kulc( ['medium comment'] ['medium view'] ) =  0.74\n",
    "\n",
    "因此可以得出：\n",
    "- 喜爱度高且评价中等的视频会有中等播放量\n",
    "- 喜爱度高且中等播放量的视频会有中等数量的评价\n",
    "- 中等评价数量的视频喜爱度高且有中等播放量\n",
    "- 中等播放量的视频喜爱度高且有中等评论数\n",
    "- 中等评论数的视频有中等播放量"
   ]
  },
  {
   "cell_type": "markdown",
   "metadata": {},
   "source": [
    "## 可视化展示\n",
    "- 置信度热力图绘制"
   ]
  },
  {
   "cell_type": "code",
   "execution_count": 54,
   "metadata": {},
   "outputs": [
    {
     "data": {
      "image/png": "[encoded data removed]",
      "text/plain": [
       "<Figure size 1100x900 with 2 Axes>"
      ]
     },
     "metadata": {
      "needs_background": "light"
     },
     "output_type": "display_data"
    }
   ],
   "source": [
    "conf_matrix = []\n",
    "rules_column = set()\n",
    "\n",
    "for i in range(len(Lift)):\n",
    "    rules_column.add(Lift[i][0])\n",
    "for i in rules_column:\n",
    "    one = []\n",
    "    for j in rules_column:\n",
    "        if i == j:\n",
    "            one.append(1)\n",
    "        else:\n",
    "            flag = False\n",
    "            for k in range(len(rules)):\n",
    "                if rules[k][0] == i and rules[k][1] == j:\n",
    "                    one.append(rules[k][3])\n",
    "                    flag = True\n",
    "            if flag == False:\n",
    "                one.append(0)\n",
    "    conf_matrix.append(one)\n",
    "rules_column_list = []\n",
    "for i in rules_column:\n",
    "    one = \"\"\n",
    "    for j in range(len(i)):\n",
    "        one += id2str[j]\n",
    "        if j < len(i) - 1:\n",
    "            one += \", \"\n",
    "    rules_column_list.append(one)\n",
    "rules_column = list(rules_column)\n",
    "rules_column_list = []\n",
    "for i in rules_column:\n",
    "    one = \"\"\n",
    "    for j in range(len(i)):\n",
    "        one += id2str[list(i)[j]]\n",
    "        if j < len(i) - 1:\n",
    "            one += \", \"\n",
    "    rules_column_list.append(one)\n",
    "\n",
    "conf_pd = pd.DataFrame(conf_matrix, columns = rules_column_list, index = rules_column_list)\n",
    "plt.figure(figsize=(11, 9),dpi=100)\n",
    "sns.heatmap(data = conf_pd, annot = True, fmt = \".2f\", cmap = \"Reds\")\n",
    "plt.show()"
   ]
  }
 ],
 "metadata": {
  "kernelspec": {
   "display_name": "Python 3",
   "language": "python",
   "name": "python3"
  },
  "language_info": {
   "codemirror_mode": {
    "name": "ipython",
    "version": 3
   },
   "file_extension": ".py",
   "mimetype": "text/x-python",
   "name": "python",
   "nbconvert_exporter": "python",
   "pygments_lexer": "ipython3",
   "version": "3.7.6"
  }
 },
 "nbformat": 4,
 "nbformat_minor": 4
}
